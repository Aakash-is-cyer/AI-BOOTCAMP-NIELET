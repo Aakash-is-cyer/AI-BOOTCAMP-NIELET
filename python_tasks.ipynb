{
  "nbformat": 4,
  "nbformat_minor": 0,
  "metadata": {
    "colab": {
      "provenance": []
    },
    "kernelspec": {
      "name": "python3",
      "display_name": "Python 3"
    },
    "language_info": {
      "name": "python"
    }
  },
  "cells": [
    {
      "cell_type": "markdown",
      "source": [],
      "metadata": {
        "id": "eEAUuuUQwHEf"
      }
    },
    {
      "cell_type": "code",
      "execution_count": 1,
      "metadata": {
        "colab": {
          "base_uri": "https://localhost:8080/"
        },
        "id": "2tIyoHgEt-ek",
        "outputId": "3c2b9311-cd8e-4943-d631-ea5c6d949f0b"
      },
      "outputs": [
        {
          "output_type": "stream",
          "name": "stdout",
          "text": [
            "hello, worid\n"
          ]
        }
      ],
      "source": [
        "print(\"hello, worid\")"
      ]
    },
    {
      "cell_type": "code",
      "source": [
        "a = 5\n",
        "b = 6.5\n",
        "# addition\n",
        "c = a + b\n",
        "print(\"The sum of two number is\",c)"
      ],
      "metadata": {
        "colab": {
          "base_uri": "https://localhost:8080/"
        },
        "id": "MsOyNeIN1Gb0",
        "outputId": "6803cb51-321a-47c1-890f-d166f6905e58"
      },
      "execution_count": 5,
      "outputs": [
        {
          "output_type": "stream",
          "name": "stdout",
          "text": [
            "The sum of two number is 11.5\n"
          ]
        }
      ]
    },
    {
      "cell_type": "code",
      "source": [
        "j=float(input(\"enter first number \"))\n",
        "k=float(input(\"enter second nuber \"))\n",
        "l=j*k\n",
        "print(\"the product of two number \",l)"
      ],
      "metadata": {
        "colab": {
          "base_uri": "https://localhost:8080/"
        },
        "id": "m9uLfY0J11ab",
        "outputId": "a72b54e4-1698-4ebf-d32e-7383f2d39db9"
      },
      "execution_count": 7,
      "outputs": [
        {
          "output_type": "stream",
          "name": "stdout",
          "text": [
            "enter first number 875\n",
            "enter second nuber 920\n",
            "the product of two number  805000.0\n"
          ]
        }
      ]
    }
  ]
}